{
 "cells": [
  {
   "cell_type": "code",
   "execution_count": 154,
   "metadata": {},
   "outputs": [],
   "source": [
    "import copy\n",
    "import itertools\n",
    "import os\n",
    "import operator\n",
    "import pandas as pd\n",
    "import pickle\n",
    "import random\n",
    "import sklearn\n",
    "import powerlaw\n",
    "import math\n",
    "import numpy as np\n",
    "import networkx as nx\n",
    "import matplotlib.pyplot as plt\n",
    "import seaborn as sns\n",
    "\n",
    "from collections import defaultdict\n",
    "from gensim.models import Word2Vec, KeyedVectors\n",
    "from scipy.io import loadmat, savemat\n",
    "from sklearn.metrics.pairwise import euclidean_distances, cosine_similarity\n",
    "from scipy.spatial import distance\n",
    "from sklearn.preprocessing import normalize\n",
    "from sklearn.neighbors import BallTree\n",
    "\n",
    "sns.set()"
   ]
  },
  {
   "cell_type": "markdown",
   "metadata": {},
   "source": [
    "# Load Graph and Embeddings"
   ]
  },
  {
   "cell_type": "code",
   "execution_count": 2,
   "metadata": {},
   "outputs": [
    {
     "data": {
      "text/plain": [
       "<10312x10312 sparse matrix of type '<class 'numpy.float64'>'\n",
       "\twith 667966 stored elements in Compressed Sparse Column format>"
      ]
     },
     "execution_count": 2,
     "metadata": {},
     "output_type": "execute_result"
    }
   ],
   "source": [
    "blog = loadmat('/home/hcchen/fast-random-projection/example_graphs/blogcatalog.mat')\n",
    "A = blog['network']\n",
    "A"
   ]
  },
  {
   "cell_type": "code",
   "execution_count": 284,
   "metadata": {},
   "outputs": [],
   "source": [
    "d = np.squeeze(np.asarray(A.sum(axis=1)))"
   ]
  },
  {
   "cell_type": "code",
   "execution_count": 4,
   "metadata": {},
   "outputs": [],
   "source": [
    "d_log = map(math.log, d)"
   ]
  },
  {
   "cell_type": "markdown",
   "metadata": {},
   "source": [
    "Load embeddings:"
   ]
  },
  {
   "cell_type": "code",
   "execution_count": 5,
   "metadata": {},
   "outputs": [],
   "source": [
    "rp_emb = loadmat('/home/hcchen/fast-random-projection/result/blog-randne-emb.mat')['emb']"
   ]
  },
  {
   "cell_type": "code",
   "execution_count": 6,
   "metadata": {},
   "outputs": [],
   "source": [
    "dw_model = KeyedVectors.load_word2vec_format('/home/hcchen/fast-random-projection/result/blogcatalog-dw.emb')\n",
    "N = len(dw_model.vocab)\n",
    "dw_emb = np.asarray([dw_model[str(node)] for node in range(N)])"
   ]
  },
  {
   "cell_type": "markdown",
   "metadata": {},
   "source": [
    "# Distance Between Nodes of Different Degree Tiers"
   ]
  },
  {
   "cell_type": "markdown",
   "metadata": {},
   "source": [
    "Array of degree tiers:"
   ]
  },
  {
   "cell_type": "code",
   "execution_count": 302,
   "metadata": {},
   "outputs": [],
   "source": [
    "eps = 1e-6\n",
    "tier_base = 2"
   ]
  },
  {
   "cell_type": "code",
   "execution_count": 303,
   "metadata": {},
   "outputs": [
    {
     "data": {
      "text/plain": [
       "3.0"
      ]
     },
     "execution_count": 303,
     "metadata": {},
     "output_type": "execute_result"
    }
   ],
   "source": [
    "np.log(8) / np.log(2)"
   ]
  },
  {
   "cell_type": "code",
   "execution_count": 304,
   "metadata": {},
   "outputs": [
    {
     "data": {
      "text/plain": [
       "[6, 3, 6, 2, 6, 8, 7, 1, 5, 8, 7, 1, 7, 6, 7, 6, 7, 2, 4, 4]"
      ]
     },
     "execution_count": 304,
     "metadata": {},
     "output_type": "execute_result"
    }
   ],
   "source": [
    "d_tier = list(map(lambda x: int( np.log(x) / np.log(tier_base) + eps), d))\n",
    "d_tier[:20]"
   ]
  },
  {
   "cell_type": "code",
   "execution_count": 305,
   "metadata": {
    "scrolled": true
   },
   "outputs": [
    {
     "data": {
      "text/plain": [
       "[(0, 270),\n",
       " (1, 725),\n",
       " (2, 1380),\n",
       " (3, 1975),\n",
       " (4, 1929),\n",
       " (5, 1736),\n",
       " (6, 1187),\n",
       " (7, 630),\n",
       " (8, 306),\n",
       " (9, 113),\n",
       " (10, 40),\n",
       " (11, 21)]"
      ]
     },
     "execution_count": 305,
     "metadata": {},
     "output_type": "execute_result"
    }
   ],
   "source": [
    "from collections import Counter\n",
    "sorted(Counter(d_tier).items())"
   ]
  },
  {
   "cell_type": "code",
   "execution_count": 306,
   "metadata": {},
   "outputs": [
    {
     "data": {
      "text/plain": [
       "12"
      ]
     },
     "execution_count": 306,
     "metadata": {},
     "output_type": "execute_result"
    }
   ],
   "source": [
    "T = max(d_tier) + 1\n",
    "T"
   ]
  },
  {
   "cell_type": "markdown",
   "metadata": {},
   "source": [
    "Distance between embeddings of nodes of different tiers:"
   ]
  },
  {
   "cell_type": "code",
   "execution_count": 13,
   "metadata": {
    "collapsed": true
   },
   "outputs": [
    {
     "name": "stdout",
     "output_type": "stream",
     "text": [
      "0\n",
      "100\n",
      "200\n",
      "300\n",
      "400\n",
      "500\n",
      "600\n",
      "700\n",
      "800\n",
      "900\n",
      "1000\n",
      "1100\n",
      "1200\n",
      "1300\n",
      "1400\n",
      "1500\n",
      "1600\n",
      "1700\n",
      "1800\n",
      "1900\n",
      "2000\n",
      "2100\n",
      "2200\n",
      "2300\n",
      "2400\n",
      "2500\n",
      "2600\n",
      "2700\n",
      "2800\n",
      "2900\n",
      "3000\n",
      "3100\n",
      "3200\n",
      "3300\n",
      "3400\n",
      "3500\n",
      "3600\n",
      "3700\n",
      "3800\n",
      "3900\n",
      "4000\n",
      "4100\n",
      "4200\n",
      "4300\n",
      "4400\n",
      "4500\n",
      "4600\n",
      "4700\n",
      "4800\n",
      "4900\n",
      "5000\n",
      "5100\n",
      "5200\n",
      "5300\n",
      "5400\n",
      "5500\n",
      "5600\n",
      "5700\n",
      "5800\n",
      "5900\n",
      "6000\n",
      "6100\n",
      "6200\n",
      "6300\n",
      "6400\n",
      "6500\n",
      "6600\n",
      "6700\n",
      "6800\n",
      "6900\n",
      "7000\n",
      "7100\n",
      "7200\n",
      "7300\n",
      "7400\n",
      "7500\n",
      "7600\n",
      "7700\n",
      "7800\n",
      "7900\n",
      "8000\n",
      "8100\n",
      "8200\n",
      "8300\n",
      "8400\n",
      "8500\n",
      "8600\n",
      "8700\n",
      "8800\n",
      "8900\n",
      "9000\n",
      "9100\n",
      "9200\n",
      "9300\n",
      "9400\n",
      "9500\n",
      "9600\n",
      "9700\n",
      "9800\n",
      "9900\n",
      "10000\n",
      "10100\n",
      "10200\n",
      "10300\n"
     ]
    }
   ],
   "source": [
    "%%time\n",
    "emb_dist_mat = [[[] for i in range(T)] for j in range(T)]\n",
    "for i in range(N):\n",
    "    if i % 100 == 0:\n",
    "        print (i)\n",
    "    for j in range(i + 1, N):\n",
    "        t1, t2 = d_tier[i], d_tier[j]\n",
    "        cur_dist = distance.euclidean(dw_emb[i], dw_emb[j])\n",
    "        emb_dist_mat[t1][t2].append(cur_dist)\n",
    "        emb_dist_mat[t2][t1].append(cur_dist)"
   ]
  },
  {
   "cell_type": "code",
   "execution_count": 18,
   "metadata": {},
   "outputs": [],
   "source": [
    "emb_dist_avg = [ [np.mean(emb_dist_mat[i][j]) for i in range(T)] for j in range(T)]"
   ]
  },
  {
   "cell_type": "code",
   "execution_count": 22,
   "metadata": {},
   "outputs": [
    {
     "data": {
      "text/html": [
       "<div>\n",
       "<style scoped>\n",
       "    .dataframe tbody tr th:only-of-type {\n",
       "        vertical-align: middle;\n",
       "    }\n",
       "\n",
       "    .dataframe tbody tr th {\n",
       "        vertical-align: top;\n",
       "    }\n",
       "\n",
       "    .dataframe thead th {\n",
       "        text-align: right;\n",
       "    }\n",
       "</style>\n",
       "<table border=\"1\" class=\"dataframe\">\n",
       "  <thead>\n",
       "    <tr style=\"text-align: right;\">\n",
       "      <th></th>\n",
       "      <th>0</th>\n",
       "      <th>1</th>\n",
       "      <th>2</th>\n",
       "      <th>3</th>\n",
       "      <th>4</th>\n",
       "      <th>5</th>\n",
       "      <th>6</th>\n",
       "      <th>7</th>\n",
       "      <th>8</th>\n",
       "      <th>9</th>\n",
       "      <th>10</th>\n",
       "    </tr>\n",
       "  </thead>\n",
       "  <tbody>\n",
       "    <tr>\n",
       "      <th>0</th>\n",
       "      <td>4.016834</td>\n",
       "      <td>3.852030</td>\n",
       "      <td>3.718139</td>\n",
       "      <td>3.593149</td>\n",
       "      <td>3.470130</td>\n",
       "      <td>3.374352</td>\n",
       "      <td>3.296530</td>\n",
       "      <td>3.239761</td>\n",
       "      <td>3.202446</td>\n",
       "      <td>3.123710</td>\n",
       "      <td>4.035625</td>\n",
       "    </tr>\n",
       "    <tr>\n",
       "      <th>1</th>\n",
       "      <td>3.852030</td>\n",
       "      <td>3.665345</td>\n",
       "      <td>3.518936</td>\n",
       "      <td>3.386848</td>\n",
       "      <td>3.256973</td>\n",
       "      <td>3.157335</td>\n",
       "      <td>3.076944</td>\n",
       "      <td>3.021134</td>\n",
       "      <td>2.985695</td>\n",
       "      <td>2.900887</td>\n",
       "      <td>3.881498</td>\n",
       "    </tr>\n",
       "    <tr>\n",
       "      <th>2</th>\n",
       "      <td>3.718139</td>\n",
       "      <td>3.518936</td>\n",
       "      <td>3.359849</td>\n",
       "      <td>3.217558</td>\n",
       "      <td>3.079264</td>\n",
       "      <td>2.974132</td>\n",
       "      <td>2.890728</td>\n",
       "      <td>2.834602</td>\n",
       "      <td>2.801236</td>\n",
       "      <td>2.712799</td>\n",
       "      <td>3.752934</td>\n",
       "    </tr>\n",
       "    <tr>\n",
       "      <th>3</th>\n",
       "      <td>3.593149</td>\n",
       "      <td>3.386848</td>\n",
       "      <td>3.217558</td>\n",
       "      <td>3.064878</td>\n",
       "      <td>2.916418</td>\n",
       "      <td>2.802916</td>\n",
       "      <td>2.713112</td>\n",
       "      <td>2.654098</td>\n",
       "      <td>2.622358</td>\n",
       "      <td>2.532092</td>\n",
       "      <td>3.628705</td>\n",
       "    </tr>\n",
       "    <tr>\n",
       "      <th>4</th>\n",
       "      <td>3.470130</td>\n",
       "      <td>3.256973</td>\n",
       "      <td>3.079264</td>\n",
       "      <td>2.916418</td>\n",
       "      <td>2.756851</td>\n",
       "      <td>2.632725</td>\n",
       "      <td>2.534028</td>\n",
       "      <td>2.469696</td>\n",
       "      <td>2.438096</td>\n",
       "      <td>2.345481</td>\n",
       "      <td>3.504825</td>\n",
       "    </tr>\n",
       "    <tr>\n",
       "      <th>5</th>\n",
       "      <td>3.374352</td>\n",
       "      <td>3.157335</td>\n",
       "      <td>2.974132</td>\n",
       "      <td>2.802916</td>\n",
       "      <td>2.632725</td>\n",
       "      <td>2.497361</td>\n",
       "      <td>2.388762</td>\n",
       "      <td>2.317921</td>\n",
       "      <td>2.285579</td>\n",
       "      <td>2.191171</td>\n",
       "      <td>3.407532</td>\n",
       "    </tr>\n",
       "    <tr>\n",
       "      <th>6</th>\n",
       "      <td>3.296530</td>\n",
       "      <td>3.076944</td>\n",
       "      <td>2.890728</td>\n",
       "      <td>2.713112</td>\n",
       "      <td>2.534028</td>\n",
       "      <td>2.388762</td>\n",
       "      <td>2.269119</td>\n",
       "      <td>2.188845</td>\n",
       "      <td>2.153816</td>\n",
       "      <td>2.059307</td>\n",
       "      <td>3.325953</td>\n",
       "    </tr>\n",
       "    <tr>\n",
       "      <th>7</th>\n",
       "      <td>3.239761</td>\n",
       "      <td>3.021134</td>\n",
       "      <td>2.834602</td>\n",
       "      <td>2.654098</td>\n",
       "      <td>2.469696</td>\n",
       "      <td>2.317921</td>\n",
       "      <td>2.188845</td>\n",
       "      <td>2.100044</td>\n",
       "      <td>2.058155</td>\n",
       "      <td>1.960430</td>\n",
       "      <td>3.264767</td>\n",
       "    </tr>\n",
       "    <tr>\n",
       "      <th>8</th>\n",
       "      <td>3.202446</td>\n",
       "      <td>2.985695</td>\n",
       "      <td>2.801236</td>\n",
       "      <td>2.622358</td>\n",
       "      <td>2.438096</td>\n",
       "      <td>2.285579</td>\n",
       "      <td>2.153816</td>\n",
       "      <td>2.058155</td>\n",
       "      <td>2.003527</td>\n",
       "      <td>1.893989</td>\n",
       "      <td>3.221495</td>\n",
       "    </tr>\n",
       "    <tr>\n",
       "      <th>9</th>\n",
       "      <td>3.123710</td>\n",
       "      <td>2.900887</td>\n",
       "      <td>2.712799</td>\n",
       "      <td>2.532092</td>\n",
       "      <td>2.345481</td>\n",
       "      <td>2.191171</td>\n",
       "      <td>2.059307</td>\n",
       "      <td>1.960430</td>\n",
       "      <td>1.893989</td>\n",
       "      <td>1.755431</td>\n",
       "      <td>3.139095</td>\n",
       "    </tr>\n",
       "    <tr>\n",
       "      <th>10</th>\n",
       "      <td>4.035625</td>\n",
       "      <td>3.881498</td>\n",
       "      <td>3.752934</td>\n",
       "      <td>3.628705</td>\n",
       "      <td>3.504825</td>\n",
       "      <td>3.407532</td>\n",
       "      <td>3.325953</td>\n",
       "      <td>3.264767</td>\n",
       "      <td>3.221495</td>\n",
       "      <td>3.139095</td>\n",
       "      <td>4.038503</td>\n",
       "    </tr>\n",
       "  </tbody>\n",
       "</table>\n",
       "</div>"
      ],
      "text/plain": [
       "          0         1         2         3         4         5         6   \\\n",
       "0   4.016834  3.852030  3.718139  3.593149  3.470130  3.374352  3.296530   \n",
       "1   3.852030  3.665345  3.518936  3.386848  3.256973  3.157335  3.076944   \n",
       "2   3.718139  3.518936  3.359849  3.217558  3.079264  2.974132  2.890728   \n",
       "3   3.593149  3.386848  3.217558  3.064878  2.916418  2.802916  2.713112   \n",
       "4   3.470130  3.256973  3.079264  2.916418  2.756851  2.632725  2.534028   \n",
       "5   3.374352  3.157335  2.974132  2.802916  2.632725  2.497361  2.388762   \n",
       "6   3.296530  3.076944  2.890728  2.713112  2.534028  2.388762  2.269119   \n",
       "7   3.239761  3.021134  2.834602  2.654098  2.469696  2.317921  2.188845   \n",
       "8   3.202446  2.985695  2.801236  2.622358  2.438096  2.285579  2.153816   \n",
       "9   3.123710  2.900887  2.712799  2.532092  2.345481  2.191171  2.059307   \n",
       "10  4.035625  3.881498  3.752934  3.628705  3.504825  3.407532  3.325953   \n",
       "\n",
       "          7         8         9         10  \n",
       "0   3.239761  3.202446  3.123710  4.035625  \n",
       "1   3.021134  2.985695  2.900887  3.881498  \n",
       "2   2.834602  2.801236  2.712799  3.752934  \n",
       "3   2.654098  2.622358  2.532092  3.628705  \n",
       "4   2.469696  2.438096  2.345481  3.504825  \n",
       "5   2.317921  2.285579  2.191171  3.407532  \n",
       "6   2.188845  2.153816  2.059307  3.325953  \n",
       "7   2.100044  2.058155  1.960430  3.264767  \n",
       "8   2.058155  2.003527  1.893989  3.221495  \n",
       "9   1.960430  1.893989  1.755431  3.139095  \n",
       "10  3.264767  3.221495  3.139095  4.038503  "
      ]
     },
     "execution_count": 22,
     "metadata": {},
     "output_type": "execute_result"
    }
   ],
   "source": [
    "pd.DataFrame(emb_dist_avg)"
   ]
  },
  {
   "cell_type": "code",
   "execution_count": 25,
   "metadata": {},
   "outputs": [
    {
     "data": {
      "text/plain": [
       "Text(0.5, 1.0, 'Average Distance between Nodes of Different Tiers')"
      ]
     },
     "execution_count": 25,
     "metadata": {},
     "output_type": "execute_result"
    },
    {
     "data": {
      "image/png": "[encoded data removed]",
      "text/plain": [
       "<Figure size 432x288 with 2 Axes>"
      ]
     },
     "metadata": {
      "needs_background": "light"
     },
     "output_type": "display_data"
    }
   ],
   "source": [
    "sns.heatmap(emb_dist_avg)\n",
    "plt.xlabel('Degree Tier')\n",
    "plt.ylabel('Degree Tier')\n",
    "plt.title('Average Distance between Nodes of Different Tiers')"
   ]
  },
  {
   "cell_type": "markdown",
   "metadata": {},
   "source": [
    "# Ratio of Edges Between Different Tiers"
   ]
  },
  {
   "cell_type": "code",
   "execution_count": 36,
   "metadata": {},
   "outputs": [],
   "source": [
    "cx = A.tocoo()"
   ]
  },
  {
   "cell_type": "code",
   "execution_count": 39,
   "metadata": {},
   "outputs": [],
   "source": [
    "edge_count = [[0 for i in range(T)] for j in range(T)]"
   ]
  },
  {
   "cell_type": "code",
   "execution_count": 40,
   "metadata": {},
   "outputs": [],
   "source": [
    "for i, j, _ in zip(cx.row, cx.col, cx.data):\n",
    "    t1, t2 = d_tier[i], d_tier[j]\n",
    "    edge_count[t1][t2] += 1\n",
    "    edge_count[t2][t1] += 1"
   ]
  },
  {
   "cell_type": "code",
   "execution_count": 48,
   "metadata": {},
   "outputs": [],
   "source": [
    "edge_count_normed = normalize(np.asarray(edge_count), axis=0, norm='l1')"
   ]
  },
  {
   "cell_type": "code",
   "execution_count": 49,
   "metadata": {
    "collapsed": true
   },
   "outputs": [
    {
     "data": {
      "text/plain": [
       "array([[0.00110988, 0.00134102, 0.00104965, 0.0009671 , 0.00104617,\n",
       "        0.00161925, 0.00155345, 0.00232382, 0.0047291 , 0.00417486,\n",
       "        0.00790847],\n",
       "       [0.00554939, 0.00563229, 0.00520263, 0.00451311, 0.00474605,\n",
       "        0.00569562, 0.00677053, 0.00901072, 0.01646238, 0.01901114,\n",
       "        0.03629647],\n",
       "       [0.0127636 , 0.01528765, 0.01542534, 0.01646365, 0.01661117,\n",
       "        0.01784   , 0.02130831, 0.02755383, 0.04566776, 0.05860332,\n",
       "        0.09463264],\n",
       "       [0.02330744, 0.02628403, 0.03263052, 0.03504571, 0.03564639,\n",
       "        0.04018   , 0.04889328, 0.06189889, 0.08967395, 0.11299727,\n",
       "        0.14983053],\n",
       "       [0.04550499, 0.04988601, 0.0594195 , 0.06433489, 0.07195621,\n",
       "        0.08407863, 0.09828941, 0.1229631 , 0.1574151 , 0.19143981,\n",
       "        0.21406668],\n",
       "       [0.0954495 , 0.08113182, 0.08648229, 0.09827535, 0.11394343,\n",
       "        0.1301237 , 0.14992143, 0.17992033, 0.20361968, 0.22668461,\n",
       "        0.21148432],\n",
       "       [0.09600444, 0.10111305, 0.10829682, 0.12537705, 0.13965119,\n",
       "        0.15718025, 0.181619  , 0.19767618, 0.19437876, 0.18321085,\n",
       "        0.14495275],\n",
       "       [0.13596004, 0.12739708, 0.13257576, 0.15026825, 0.16539723,\n",
       "        0.17857883, 0.18714138, 0.17974011, 0.14890272, 0.11744816,\n",
       "        0.0828865 ],\n",
       "       [0.20532741, 0.17272362, 0.16306134, 0.16155104, 0.15712992,\n",
       "        0.14997835, 0.13655996, 0.11049986, 0.07602347, 0.0513922 ,\n",
       "        0.03514875],\n",
       "       [0.13429523, 0.14778061, 0.15502921, 0.15082088, 0.14157768,\n",
       "        0.12370319, 0.0953621 , 0.06457365, 0.03807564, 0.02177138,\n",
       "        0.01379051],\n",
       "       [0.24472808, 0.27142282, 0.24082694, 0.19238297, 0.15229456,\n",
       "        0.1110222 , 0.07258115, 0.04383951, 0.02505144, 0.0132664 ,\n",
       "        0.00900239]])"
      ]
     },
     "execution_count": 49,
     "metadata": {},
     "output_type": "execute_result"
    }
   ],
   "source": [
    "edge_count_normed"
   ]
  },
  {
   "cell_type": "code",
   "execution_count": 51,
   "metadata": {},
   "outputs": [
    {
     "data": {
      "text/plain": [
       "Text(0.5, 1.0, 'Ratio of Edges between Nodes of Different Tiers')"
      ]
     },
     "execution_count": 51,
     "metadata": {},
     "output_type": "execute_result"
    },
    {
     "data": {
      "image/png": "[encoded data removed]",
      "text/plain": [
       "<Figure size 432x288 with 2 Axes>"
      ]
     },
     "metadata": {},
     "output_type": "display_data"
    }
   ],
   "source": [
    "sns.heatmap(edge_count_normed, cmap=sns.cm.rocket_r)\n",
    "plt.xlabel('Degree Tier')\n",
    "plt.ylabel('Degree Tier')\n",
    "plt.title('Ratio of Edges between Nodes of Different Tiers')"
   ]
  },
  {
   "cell_type": "markdown",
   "metadata": {},
   "source": [
    "# Erdos-Renyi Model"
   ]
  },
  {
   "cell_type": "markdown",
   "metadata": {},
   "source": [
    "Randomly connect to existing nodes:"
   ]
  },
  {
   "cell_type": "code",
   "execution_count": 76,
   "metadata": {},
   "outputs": [
    {
     "data": {
      "text/plain": [
       "(1, 0)"
      ]
     },
     "execution_count": 76,
     "metadata": {},
     "output_type": "execute_result"
    }
   ],
   "source": [
    "tuple(random.sample(range(4), 2))"
   ]
  },
  {
   "cell_type": "code",
   "execution_count": 307,
   "metadata": {},
   "outputs": [
    {
     "data": {
      "text/plain": [
       "333983"
      ]
     },
     "execution_count": 307,
     "metadata": {},
     "output_type": "execute_result"
    }
   ],
   "source": [
    "M = int(A.sum() / 2 + 1e-8)\n",
    "M"
   ]
  },
  {
   "cell_type": "code",
   "execution_count": 91,
   "metadata": {},
   "outputs": [],
   "source": [
    "cur_sampled_edges = set()\n",
    "for i in range(M):\n",
    "    while True:\n",
    "        edge = tuple(random.sample(range(N), 2) )\n",
    "        if edge not in cur_sampled_edges:\n",
    "            cur_sampled_edges.add(edge)\n",
    "            break"
   ]
  },
  {
   "cell_type": "code",
   "execution_count": 93,
   "metadata": {},
   "outputs": [],
   "source": [
    "er_edge_count = [[0 for i in range(T)] for j in range(T)]"
   ]
  },
  {
   "cell_type": "code",
   "execution_count": 308,
   "metadata": {
    "scrolled": true
   },
   "outputs": [
    {
     "data": {
      "text/plain": [
       "[5, 5, 5, 5, 4, 4, 4, 5, 5, 5, 4, 4, 5, 5, 5, 4, 5, 4, 5, 4]"
      ]
     },
     "execution_count": 308,
     "metadata": {},
     "output_type": "execute_result"
    }
   ],
   "source": [
    "d = [0 for _ in range(N)]\n",
    "for u, v in cur_sampled_edges:\n",
    "    d[u] += 1\n",
    "    d[v] += 1\n",
    "d_tier = list(map(lambda x: int( np.log(x) / np.log(tier_base) + eps) - 1, d))\n",
    "d_tier[:20]"
   ]
  },
  {
   "cell_type": "markdown",
   "metadata": {},
   "source": [
    "Number of nodes by degree tier:"
   ]
  },
  {
   "cell_type": "code",
   "execution_count": 309,
   "metadata": {},
   "outputs": [
    {
     "data": {
      "text/plain": [
       "[(4, 4614), (5, 5698)]"
      ]
     },
     "execution_count": 309,
     "metadata": {},
     "output_type": "execute_result"
    }
   ],
   "source": [
    "sorted(Counter(d_tier).items())"
   ]
  },
  {
   "cell_type": "code",
   "execution_count": 134,
   "metadata": {},
   "outputs": [],
   "source": [
    "for u, v in cur_sampled_edges:\n",
    "    t1, t2 = d_tier[u], d_tier[v]\n",
    "    er_edge_count[t1][t2] += 1\n",
    "    er_edge_count[t2][t1] += 1"
   ]
  },
  {
   "cell_type": "code",
   "execution_count": 135,
   "metadata": {},
   "outputs": [],
   "source": [
    "er_edge_count_normed = normalize(np.asarray(er_edge_count), axis=0, norm='l1')"
   ]
  },
  {
   "cell_type": "code",
   "execution_count": 136,
   "metadata": {},
   "outputs": [
    {
     "data": {
      "text/plain": [
       "Text(0.5, 1.0, 'Ratio of Edges between Nodes of Different Tiers')"
      ]
     },
     "execution_count": 136,
     "metadata": {},
     "output_type": "execute_result"
    },
    {
     "data": {
      "image/png": "[encoded data removed]",
      "text/plain": [
       "<Figure size 432x288 with 2 Axes>"
      ]
     },
     "metadata": {},
     "output_type": "display_data"
    }
   ],
   "source": [
    "sns.heatmap(er_edge_count_normed, cmap=sns.cm.rocket_r)\n",
    "plt.xlabel('Degree Tier')\n",
    "plt.ylabel('Degree Tier')\n",
    "plt.title('Ratio of Edges between Nodes of Different Tiers')"
   ]
  },
  {
   "cell_type": "markdown",
   "metadata": {},
   "source": [
    "# BA Model"
   ]
  },
  {
   "cell_type": "code",
   "execution_count": 240,
   "metadata": {
    "scrolled": true
   },
   "outputs": [
    {
     "data": {
      "text/plain": [
       "32.38780062063615"
      ]
     },
     "execution_count": 240,
     "metadata": {},
     "output_type": "execute_result"
    }
   ],
   "source": [
    "M / N"
   ]
  },
  {
   "cell_type": "code",
   "execution_count": 271,
   "metadata": {},
   "outputs": [],
   "source": [
    "G_ba = nx.barabasi_albert_graph(N, int(M / N) )"
   ]
  },
  {
   "cell_type": "code",
   "execution_count": 272,
   "metadata": {
    "scrolled": false
   },
   "outputs": [
    {
     "data": {
      "text/plain": [
       "328960"
      ]
     },
     "execution_count": 272,
     "metadata": {},
     "output_type": "execute_result"
    }
   ],
   "source": [
    "G_ba.number_of_edges()"
   ]
  },
  {
   "cell_type": "code",
   "execution_count": 310,
   "metadata": {},
   "outputs": [
    {
     "data": {
      "text/plain": [
       "[5, 5, 5, 5, 5, 5, 5, 5, 5, 5, 5, 5, 5, 5, 5, 6, 5, 5, 5, 5]"
      ]
     },
     "execution_count": 310,
     "metadata": {},
     "output_type": "execute_result"
    }
   ],
   "source": [
    "d = [d for n, d in G_ba.degree()]\n",
    "d_tier = list(map(lambda x: int( np.log(x) / np.log(tier_base) + eps) - 1, d))\n",
    "d_tier[1000:1020]"
   ]
  },
  {
   "cell_type": "markdown",
   "metadata": {},
   "source": [
    "Number of nodes by degree tier:"
   ]
  },
  {
   "cell_type": "code",
   "execution_count": 311,
   "metadata": {},
   "outputs": [
    {
     "data": {
      "text/plain": [
       "[(4, 7682), (5, 1939), (6, 492), (7, 153), (8, 46)]"
      ]
     },
     "execution_count": 311,
     "metadata": {},
     "output_type": "execute_result"
    }
   ],
   "source": [
    "sorted(Counter(d_tier).items())"
   ]
  },
  {
   "cell_type": "code",
   "execution_count": 245,
   "metadata": {},
   "outputs": [],
   "source": [
    "ba_edge_count = [[0 for i in range(T)] for j in range(T)]"
   ]
  },
  {
   "cell_type": "code",
   "execution_count": 246,
   "metadata": {},
   "outputs": [],
   "source": [
    "for u, v in G.edges():\n",
    "    t1, t2 = d_tier[u], d_tier[v]\n",
    "    ba_edge_count[t1][t2] += 1\n",
    "    ba_edge_count[t2][t1] += 1"
   ]
  },
  {
   "cell_type": "code",
   "execution_count": 247,
   "metadata": {},
   "outputs": [],
   "source": [
    "ba_edge_count_normed = normalize(np.asarray(ba_edge_count), axis=0, norm='l1')"
   ]
  },
  {
   "cell_type": "code",
   "execution_count": 248,
   "metadata": {
    "scrolled": true
   },
   "outputs": [
    {
     "data": {
      "text/plain": [
       "Text(0.5, 1.0, 'Ratio of Edges between Nodes of Different Tiers')"
      ]
     },
     "execution_count": 248,
     "metadata": {},
     "output_type": "execute_result"
    },
    {
     "data": {
      "image/png": "[encoded data removed]",
      "text/plain": [
       "<Figure size 432x288 with 2 Axes>"
      ]
     },
     "metadata": {},
     "output_type": "display_data"
    }
   ],
   "source": [
    "sns.heatmap(ba_edge_count_normed, cmap=sns.cm.rocket_r)\n",
    "plt.xlabel('Degree Tier')\n",
    "plt.ylabel('Degree Tier')\n",
    "plt.title('Ratio of Edges between Nodes of Different Tiers')"
   ]
  },
  {
   "cell_type": "code",
   "execution_count": 249,
   "metadata": {},
   "outputs": [],
   "source": [
    "G_ba_edge_set = G_to_edge_set(G_ba)"
   ]
  },
  {
   "cell_type": "code",
   "execution_count": 250,
   "metadata": {},
   "outputs": [],
   "source": [
    "G_real = nx.from_scipy_sparse_matrix(A)"
   ]
  },
  {
   "cell_type": "code",
   "execution_count": 251,
   "metadata": {},
   "outputs": [
    {
     "data": {
      "text/plain": [
       "333983"
      ]
     },
     "execution_count": 251,
     "metadata": {},
     "output_type": "execute_result"
    }
   ],
   "source": [
    "G_real.number_of_edges()"
   ]
  },
  {
   "cell_type": "code",
   "execution_count": 252,
   "metadata": {},
   "outputs": [],
   "source": [
    "G_real_edge_set = G_to_edge_set(G_real)"
   ]
  },
  {
   "cell_type": "code",
   "execution_count": 254,
   "metadata": {},
   "outputs": [
    {
     "data": {
      "text/plain": [
       "0.0071740178392313385"
      ]
     },
     "execution_count": 254,
     "metadata": {},
     "output_type": "execute_result"
    }
   ],
   "source": [
    "len(G_ba_edge_set.intersection(G_real_edge_set)) / G_real.number_of_edges()"
   ]
  },
  {
   "cell_type": "markdown",
   "metadata": {},
   "source": [
    "# Nearest Neighbor Model"
   ]
  },
  {
   "cell_type": "markdown",
   "metadata": {},
   "source": [
    "Connect each node to its nearest neighbor according to DeepWalk embeddings."
   ]
  },
  {
   "cell_type": "markdown",
   "metadata": {},
   "source": [
    "First we build a ball tree:"
   ]
  },
  {
   "cell_type": "code",
   "execution_count": 155,
   "metadata": {},
   "outputs": [
    {
     "name": "stdout",
     "output_type": "stream",
     "text": [
      "CPU times: user 70.3 ms, sys: 4.02 ms, total: 74.3 ms\n",
      "Wall time: 72.7 ms\n"
     ]
    }
   ],
   "source": [
    "%time tree = BallTree(dw_emb)"
   ]
  },
  {
   "cell_type": "markdown",
   "metadata": {},
   "source": [
    "Connect edges based on L2 distance:"
   ]
  },
  {
   "cell_type": "code",
   "execution_count": 186,
   "metadata": {},
   "outputs": [
    {
     "name": "stdout",
     "output_type": "stream",
     "text": [
      "0\n",
      "1000\n",
      "2000\n",
      "3000\n",
      "4000\n",
      "5000\n",
      "6000\n",
      "7000\n",
      "8000\n",
      "9000\n",
      "10000\n",
      "CPU times: user 37 s, sys: 99.2 ms, total: 37.1 s\n",
      "Wall time: 37.1 s\n"
     ]
    }
   ],
   "source": [
    "%%time\n",
    "nn_edges = set()\n",
    "for u in range(N):\n",
    "    k = A[u].count_nonzero()\n",
    "    if u % 1000 == 0:\n",
    "        print (u)\n",
    "    dist, ind = tree.query(dw_emb[u: u + 1], k=k+1)\n",
    "    neighbors = ind[0][1:]\n",
    "    for neighbor in neighbors:\n",
    "        cur_edge = (neighbor, u) if neighbor < u else (u, neighbor)\n",
    "        if cur_edge not in nn_edges:\n",
    "            nn_edges.add(cur_edge)"
   ]
  },
  {
   "cell_type": "code",
   "execution_count": 189,
   "metadata": {},
   "outputs": [],
   "source": [
    "G_nn = nx.Graph()"
   ]
  },
  {
   "cell_type": "code",
   "execution_count": 190,
   "metadata": {},
   "outputs": [],
   "source": [
    "G_nn.add_edges_from(nn_edges)"
   ]
  },
  {
   "cell_type": "code",
   "execution_count": 312,
   "metadata": {},
   "outputs": [
    {
     "data": {
      "text/plain": [
       "524878"
      ]
     },
     "execution_count": 312,
     "metadata": {},
     "output_type": "execute_result"
    }
   ],
   "source": [
    "G_nn.number_of_edges()"
   ]
  },
  {
   "cell_type": "markdown",
   "metadata": {},
   "source": [
    "This is going to add more edges than the original graph..."
   ]
  },
  {
   "cell_type": "code",
   "execution_count": 187,
   "metadata": {},
   "outputs": [
    {
     "data": {
      "text/plain": [
       "524878"
      ]
     },
     "execution_count": 187,
     "metadata": {},
     "output_type": "execute_result"
    }
   ],
   "source": [
    "len(nn_edges)"
   ]
  },
  {
   "cell_type": "code",
   "execution_count": 315,
   "metadata": {},
   "outputs": [
    {
     "data": {
      "text/plain": [
       "[5, 7, 7, 6, 10, 2, 9, 6, 8, 5, 9, 9, 8, 7, 7, 6, 2, 6, 7, 8]"
      ]
     },
     "execution_count": 315,
     "metadata": {},
     "output_type": "execute_result"
    }
   ],
   "source": [
    "d = [d for n, d in G_nn.degree()]\n",
    "d_tier = list(map(lambda x: int( np.log(x) / np.log(tier_base) + eps), d))\n",
    "d_tier[1000:1020]"
   ]
  },
  {
   "cell_type": "markdown",
   "metadata": {},
   "source": [
    "Number of nodes by degree tier:"
   ]
  },
  {
   "cell_type": "code",
   "execution_count": 316,
   "metadata": {
    "scrolled": true
   },
   "outputs": [
    {
     "data": {
      "text/plain": [
       "[(0, 183),\n",
       " (1, 651),\n",
       " (2, 1289),\n",
       " (3, 1860),\n",
       " (4, 1851),\n",
       " (5, 1484),\n",
       " (6, 1192),\n",
       " (7, 789),\n",
       " (8, 566),\n",
       " (9, 299),\n",
       " (10, 116),\n",
       " (11, 30),\n",
       " (12, 2)]"
      ]
     },
     "execution_count": 316,
     "metadata": {},
     "output_type": "execute_result"
    }
   ],
   "source": [
    "sorted(Counter(d_tier).items())"
   ]
  },
  {
   "cell_type": "markdown",
   "metadata": {},
   "source": [
    "## Average Distance"
   ]
  },
  {
   "cell_type": "markdown",
   "metadata": {},
   "source": [
    "Distance between embeddings of nodes of different tiers:"
   ]
  },
  {
   "cell_type": "code",
   "execution_count": 330,
   "metadata": {},
   "outputs": [
    {
     "name": "stdout",
     "output_type": "stream",
     "text": [
      "CPU times: user 6.87 s, sys: 16 ms, total: 6.88 s\n",
      "Wall time: 6.88 s\n"
     ]
    }
   ],
   "source": [
    "%%time\n",
    "emb_dist_mat_nn = [[[] for i in range(T)] for j in range(T)]\n",
    "for u, v in G_nn.edges():\n",
    "    t1, t2 = d_tier[u], d_tier[v]\n",
    "    cur_dist = distance.euclidean(dw_emb[u], dw_emb[v])\n",
    "    emb_dist_mat_nn[t1][t2].append(cur_dist)\n",
    "    emb_dist_mat_nn[t2][t1].append(cur_dist)"
   ]
  },
  {
   "cell_type": "code",
   "execution_count": 332,
   "metadata": {},
   "outputs": [],
   "source": [
    "emb_dist_avg_nn = [ [np.mean(emb_dist_mat_nn[i][j]) for i in range(T)] for j in range(T)]"
   ]
  },
  {
   "cell_type": "code",
   "execution_count": 333,
   "metadata": {
    "collapsed": true
   },
   "outputs": [
    {
     "data": {
      "text/html": [
       "<div>\n",
       "<style scoped>\n",
       "    .dataframe tbody tr th:only-of-type {\n",
       "        vertical-align: middle;\n",
       "    }\n",
       "\n",
       "    .dataframe tbody tr th {\n",
       "        vertical-align: top;\n",
       "    }\n",
       "\n",
       "    .dataframe thead th {\n",
       "        text-align: right;\n",
       "    }\n",
       "</style>\n",
       "<table border=\"1\" class=\"dataframe\">\n",
       "  <thead>\n",
       "    <tr style=\"text-align: right;\">\n",
       "      <th></th>\n",
       "      <th>0</th>\n",
       "      <th>1</th>\n",
       "      <th>2</th>\n",
       "      <th>3</th>\n",
       "      <th>4</th>\n",
       "      <th>5</th>\n",
       "      <th>6</th>\n",
       "      <th>7</th>\n",
       "      <th>8</th>\n",
       "      <th>9</th>\n",
       "      <th>10</th>\n",
       "      <th>11</th>\n",
       "      <th>12</th>\n",
       "    </tr>\n",
       "  </thead>\n",
       "  <tbody>\n",
       "    <tr>\n",
       "      <th>0</th>\n",
       "      <td>2.232456</td>\n",
       "      <td>2.215067</td>\n",
       "      <td>2.151824</td>\n",
       "      <td>2.141390</td>\n",
       "      <td>2.118565</td>\n",
       "      <td>2.088588</td>\n",
       "      <td>2.066011</td>\n",
       "      <td>2.068897</td>\n",
       "      <td>2.050791</td>\n",
       "      <td>2.045828</td>\n",
       "      <td>2.061875</td>\n",
       "      <td>2.064185</td>\n",
       "      <td>NaN</td>\n",
       "    </tr>\n",
       "    <tr>\n",
       "      <th>1</th>\n",
       "      <td>2.215067</td>\n",
       "      <td>2.193531</td>\n",
       "      <td>2.144129</td>\n",
       "      <td>2.123987</td>\n",
       "      <td>2.105733</td>\n",
       "      <td>2.085833</td>\n",
       "      <td>2.078458</td>\n",
       "      <td>2.093253</td>\n",
       "      <td>2.078301</td>\n",
       "      <td>2.079701</td>\n",
       "      <td>2.074969</td>\n",
       "      <td>2.073725</td>\n",
       "      <td>2.122821</td>\n",
       "    </tr>\n",
       "    <tr>\n",
       "      <th>2</th>\n",
       "      <td>2.151824</td>\n",
       "      <td>2.144129</td>\n",
       "      <td>2.091596</td>\n",
       "      <td>2.075836</td>\n",
       "      <td>2.058127</td>\n",
       "      <td>2.026551</td>\n",
       "      <td>2.017245</td>\n",
       "      <td>2.025797</td>\n",
       "      <td>2.016017</td>\n",
       "      <td>2.016786</td>\n",
       "      <td>2.031244</td>\n",
       "      <td>2.015656</td>\n",
       "      <td>2.000313</td>\n",
       "    </tr>\n",
       "    <tr>\n",
       "      <th>3</th>\n",
       "      <td>2.141390</td>\n",
       "      <td>2.123987</td>\n",
       "      <td>2.075836</td>\n",
       "      <td>2.063983</td>\n",
       "      <td>2.050949</td>\n",
       "      <td>2.019509</td>\n",
       "      <td>2.010883</td>\n",
       "      <td>2.018677</td>\n",
       "      <td>2.011899</td>\n",
       "      <td>2.007888</td>\n",
       "      <td>2.017625</td>\n",
       "      <td>1.996804</td>\n",
       "      <td>2.009284</td>\n",
       "    </tr>\n",
       "    <tr>\n",
       "      <th>4</th>\n",
       "      <td>2.118565</td>\n",
       "      <td>2.105733</td>\n",
       "      <td>2.058127</td>\n",
       "      <td>2.050949</td>\n",
       "      <td>2.045237</td>\n",
       "      <td>2.013378</td>\n",
       "      <td>2.004027</td>\n",
       "      <td>2.009990</td>\n",
       "      <td>2.005910</td>\n",
       "      <td>1.998075</td>\n",
       "      <td>2.010409</td>\n",
       "      <td>1.997775</td>\n",
       "      <td>2.006550</td>\n",
       "    </tr>\n",
       "    <tr>\n",
       "      <th>5</th>\n",
       "      <td>2.088588</td>\n",
       "      <td>2.085833</td>\n",
       "      <td>2.026551</td>\n",
       "      <td>2.019509</td>\n",
       "      <td>2.013378</td>\n",
       "      <td>1.981645</td>\n",
       "      <td>1.969255</td>\n",
       "      <td>1.975600</td>\n",
       "      <td>1.965826</td>\n",
       "      <td>1.953323</td>\n",
       "      <td>1.976204</td>\n",
       "      <td>1.948291</td>\n",
       "      <td>1.982398</td>\n",
       "    </tr>\n",
       "    <tr>\n",
       "      <th>6</th>\n",
       "      <td>2.066011</td>\n",
       "      <td>2.078458</td>\n",
       "      <td>2.017245</td>\n",
       "      <td>2.010883</td>\n",
       "      <td>2.004027</td>\n",
       "      <td>1.969255</td>\n",
       "      <td>1.952065</td>\n",
       "      <td>1.961650</td>\n",
       "      <td>1.948728</td>\n",
       "      <td>1.939150</td>\n",
       "      <td>1.952108</td>\n",
       "      <td>1.926595</td>\n",
       "      <td>2.057792</td>\n",
       "    </tr>\n",
       "    <tr>\n",
       "      <th>7</th>\n",
       "      <td>2.068897</td>\n",
       "      <td>2.093253</td>\n",
       "      <td>2.025797</td>\n",
       "      <td>2.018677</td>\n",
       "      <td>2.009990</td>\n",
       "      <td>1.975600</td>\n",
       "      <td>1.961650</td>\n",
       "      <td>1.968796</td>\n",
       "      <td>1.960819</td>\n",
       "      <td>1.943287</td>\n",
       "      <td>1.968710</td>\n",
       "      <td>1.936945</td>\n",
       "      <td>2.079154</td>\n",
       "    </tr>\n",
       "    <tr>\n",
       "      <th>8</th>\n",
       "      <td>2.050791</td>\n",
       "      <td>2.078301</td>\n",
       "      <td>2.016017</td>\n",
       "      <td>2.011899</td>\n",
       "      <td>2.005910</td>\n",
       "      <td>1.965826</td>\n",
       "      <td>1.948728</td>\n",
       "      <td>1.960819</td>\n",
       "      <td>1.948760</td>\n",
       "      <td>1.935894</td>\n",
       "      <td>1.953127</td>\n",
       "      <td>1.915744</td>\n",
       "      <td>1.931758</td>\n",
       "    </tr>\n",
       "    <tr>\n",
       "      <th>9</th>\n",
       "      <td>2.045828</td>\n",
       "      <td>2.079701</td>\n",
       "      <td>2.016786</td>\n",
       "      <td>2.007888</td>\n",
       "      <td>1.998075</td>\n",
       "      <td>1.953323</td>\n",
       "      <td>1.939150</td>\n",
       "      <td>1.943287</td>\n",
       "      <td>1.935894</td>\n",
       "      <td>1.917297</td>\n",
       "      <td>1.953113</td>\n",
       "      <td>1.888856</td>\n",
       "      <td>1.955400</td>\n",
       "    </tr>\n",
       "    <tr>\n",
       "      <th>10</th>\n",
       "      <td>2.061875</td>\n",
       "      <td>2.074969</td>\n",
       "      <td>2.031244</td>\n",
       "      <td>2.017625</td>\n",
       "      <td>2.010409</td>\n",
       "      <td>1.976204</td>\n",
       "      <td>1.952108</td>\n",
       "      <td>1.968710</td>\n",
       "      <td>1.953127</td>\n",
       "      <td>1.953113</td>\n",
       "      <td>1.938754</td>\n",
       "      <td>1.927507</td>\n",
       "      <td>1.995099</td>\n",
       "    </tr>\n",
       "    <tr>\n",
       "      <th>11</th>\n",
       "      <td>2.064185</td>\n",
       "      <td>2.073725</td>\n",
       "      <td>2.015656</td>\n",
       "      <td>1.996804</td>\n",
       "      <td>1.997775</td>\n",
       "      <td>1.948291</td>\n",
       "      <td>1.926595</td>\n",
       "      <td>1.936945</td>\n",
       "      <td>1.915744</td>\n",
       "      <td>1.888856</td>\n",
       "      <td>1.927507</td>\n",
       "      <td>1.910491</td>\n",
       "      <td>NaN</td>\n",
       "    </tr>\n",
       "    <tr>\n",
       "      <th>12</th>\n",
       "      <td>NaN</td>\n",
       "      <td>2.122821</td>\n",
       "      <td>2.000313</td>\n",
       "      <td>2.009284</td>\n",
       "      <td>2.006550</td>\n",
       "      <td>1.982398</td>\n",
       "      <td>2.057792</td>\n",
       "      <td>2.079154</td>\n",
       "      <td>1.931758</td>\n",
       "      <td>1.955400</td>\n",
       "      <td>1.995099</td>\n",
       "      <td>NaN</td>\n",
       "      <td>NaN</td>\n",
       "    </tr>\n",
       "  </tbody>\n",
       "</table>\n",
       "</div>"
      ],
      "text/plain": [
       "          0         1         2         3         4         5         6   \\\n",
       "0   2.232456  2.215067  2.151824  2.141390  2.118565  2.088588  2.066011   \n",
       "1   2.215067  2.193531  2.144129  2.123987  2.105733  2.085833  2.078458   \n",
       "2   2.151824  2.144129  2.091596  2.075836  2.058127  2.026551  2.017245   \n",
       "3   2.141390  2.123987  2.075836  2.063983  2.050949  2.019509  2.010883   \n",
       "4   2.118565  2.105733  2.058127  2.050949  2.045237  2.013378  2.004027   \n",
       "5   2.088588  2.085833  2.026551  2.019509  2.013378  1.981645  1.969255   \n",
       "6   2.066011  2.078458  2.017245  2.010883  2.004027  1.969255  1.952065   \n",
       "7   2.068897  2.093253  2.025797  2.018677  2.009990  1.975600  1.961650   \n",
       "8   2.050791  2.078301  2.016017  2.011899  2.005910  1.965826  1.948728   \n",
       "9   2.045828  2.079701  2.016786  2.007888  1.998075  1.953323  1.939150   \n",
       "10  2.061875  2.074969  2.031244  2.017625  2.010409  1.976204  1.952108   \n",
       "11  2.064185  2.073725  2.015656  1.996804  1.997775  1.948291  1.926595   \n",
       "12       NaN  2.122821  2.000313  2.009284  2.006550  1.982398  2.057792   \n",
       "\n",
       "          7         8         9         10        11        12  \n",
       "0   2.068897  2.050791  2.045828  2.061875  2.064185       NaN  \n",
       "1   2.093253  2.078301  2.079701  2.074969  2.073725  2.122821  \n",
       "2   2.025797  2.016017  2.016786  2.031244  2.015656  2.000313  \n",
       "3   2.018677  2.011899  2.007888  2.017625  1.996804  2.009284  \n",
       "4   2.009990  2.005910  1.998075  2.010409  1.997775  2.006550  \n",
       "5   1.975600  1.965826  1.953323  1.976204  1.948291  1.982398  \n",
       "6   1.961650  1.948728  1.939150  1.952108  1.926595  2.057792  \n",
       "7   1.968796  1.960819  1.943287  1.968710  1.936945  2.079154  \n",
       "8   1.960819  1.948760  1.935894  1.953127  1.915744  1.931758  \n",
       "9   1.943287  1.935894  1.917297  1.953113  1.888856  1.955400  \n",
       "10  1.968710  1.953127  1.953113  1.938754  1.927507  1.995099  \n",
       "11  1.936945  1.915744  1.888856  1.927507  1.910491       NaN  \n",
       "12  2.079154  1.931758  1.955400  1.995099       NaN       NaN  "
      ]
     },
     "execution_count": 333,
     "metadata": {},
     "output_type": "execute_result"
    }
   ],
   "source": [
    "pd.DataFrame(emb_dist_avg_nn)"
   ]
  },
  {
   "cell_type": "code",
   "execution_count": 336,
   "metadata": {},
   "outputs": [
    {
     "data": {
      "text/plain": [
       "Text(0.5, 1.0, 'Average Distance between Nodes of Different Tiers')"
      ]
     },
     "execution_count": 336,
     "metadata": {},
     "output_type": "execute_result"
    },
    {
     "data": {
      "image/png": "[encoded data removed]",
      "text/plain": [
       "<Figure size 432x288 with 2 Axes>"
      ]
     },
     "metadata": {},
     "output_type": "display_data"
    }
   ],
   "source": [
    "sns.heatmap(emb_dist_avg)\n",
    "plt.xlabel('Degree Tier')\n",
    "plt.ylabel('Degree Tier')\n",
    "plt.title('Average Distance between Nodes of Different Tiers')"
   ]
  },
  {
   "cell_type": "code",
   "execution_count": 335,
   "metadata": {},
   "outputs": [
    {
     "data": {
      "text/plain": [
       "Text(0.5, 1.0, 'Average Distance between Nodes of Different Tiers')"
      ]
     },
     "execution_count": 335,
     "metadata": {},
     "output_type": "execute_result"
    },
    {
     "data": {
      "image/png": "[encoded data removed]",
      "text/plain": [
       "<Figure size 432x288 with 2 Axes>"
      ]
     },
     "metadata": {},
     "output_type": "display_data"
    }
   ],
   "source": [
    "sns.heatmap(emb_dist_avg_nn)\n",
    "plt.xlabel('Degree Tier')\n",
    "plt.ylabel('Degree Tier')\n",
    "plt.title('Average Distance between Nodes of Different Tiers')"
   ]
  },
  {
   "cell_type": "markdown",
   "metadata": {},
   "source": [
    "## Number of Node Pairs between Different Degree Tiers"
   ]
  },
  {
   "cell_type": "code",
   "execution_count": 317,
   "metadata": {},
   "outputs": [],
   "source": [
    "T = 13"
   ]
  },
  {
   "cell_type": "code",
   "execution_count": 318,
   "metadata": {},
   "outputs": [],
   "source": [
    "nn_edge_count = [[0 for i in range(T)] for j in range(T)]"
   ]
  },
  {
   "cell_type": "code",
   "execution_count": 319,
   "metadata": {},
   "outputs": [],
   "source": [
    "for u, v in G_nn.edges():\n",
    "    t1, t2 = d_tier[u], d_tier[v]\n",
    "    nn_edge_count[t1][t2] += 1\n",
    "    nn_edge_count[t2][t1] += 1"
   ]
  },
  {
   "cell_type": "code",
   "execution_count": 320,
   "metadata": {},
   "outputs": [],
   "source": [
    "nn_edge_count_normed = normalize(np.asarray(nn_edge_count), axis=0, norm='l1')"
   ]
  },
  {
   "cell_type": "code",
   "execution_count": 321,
   "metadata": {},
   "outputs": [
    {
     "data": {
      "text/plain": [
       "Text(0.5, 1.0, 'Ratio of Edges between Nodes of Different Tiers')"
      ]
     },
     "execution_count": 321,
     "metadata": {},
     "output_type": "execute_result"
    },
    {
     "data": {
      "image/png": "[encoded data removed]",
      "text/plain": [
       "<Figure size 432x288 with 2 Axes>"
      ]
     },
     "metadata": {},
     "output_type": "display_data"
    }
   ],
   "source": [
    "sns.heatmap(nn_edge_count_normed, cmap=sns.cm.rocket_r)\n",
    "plt.xlabel('Degree Tier')\n",
    "plt.ylabel('Degree Tier')\n",
    "plt.title('Ratio of Edges between Nodes of Different Tiers')"
   ]
  },
  {
   "cell_type": "code",
   "execution_count": 233,
   "metadata": {},
   "outputs": [],
   "source": [
    "def G_to_edge_set(G):\n",
    "    edge_set = set()\n",
    "    for (u, v) in G.edges():\n",
    "        if u < v:\n",
    "            edge_set.add((u, v))\n",
    "        else:\n",
    "            edge_set.add((v, u))\n",
    "    return edge_set"
   ]
  },
  {
   "cell_type": "code",
   "execution_count": 234,
   "metadata": {},
   "outputs": [],
   "source": [
    "G_nn_edge_set = G_to_edge_set(G_nn)"
   ]
  },
  {
   "cell_type": "code",
   "execution_count": 230,
   "metadata": {},
   "outputs": [],
   "source": [
    "G_real = nx.from_scipy_sparse_matrix(A)"
   ]
  },
  {
   "cell_type": "code",
   "execution_count": 231,
   "metadata": {},
   "outputs": [
    {
     "data": {
      "text/plain": [
       "333983"
      ]
     },
     "execution_count": 231,
     "metadata": {},
     "output_type": "execute_result"
    }
   ],
   "source": [
    "G_real.number_of_edges()"
   ]
  },
  {
   "cell_type": "code",
   "execution_count": 235,
   "metadata": {},
   "outputs": [],
   "source": [
    "G_real_edge_set = G_to_edge_set(G_real)"
   ]
  },
  {
   "cell_type": "code",
   "execution_count": 238,
   "metadata": {},
   "outputs": [
    {
     "data": {
      "text/plain": [
       "0.6780644523823068"
      ]
     },
     "execution_count": 238,
     "metadata": {},
     "output_type": "execute_result"
    }
   ],
   "source": [
    "len(G_nn_edge_set.intersection(G_real_edge_set)) / G_real.number_of_edges()"
   ]
  },
  {
   "cell_type": "markdown",
   "metadata": {},
   "source": [
    "Reconstruction accuracy by node tier:"
   ]
  },
  {
   "cell_type": "code",
   "execution_count": 266,
   "metadata": {},
   "outputs": [],
   "source": [
    "edges_by_tier = [[set() for i in range(T)] for j in range(T)]\n",
    "\n",
    "for u, v in G_real.edges():\n",
    "    t1, t2 = d_tier[u], d_tier[v]\n",
    "    if u > v:\n",
    "        u, v = v, u\n",
    "    edges_by_tier[t1][t2].add((u, v))\n",
    "    edges_by_tier[t2][t1].add((u, v))"
   ]
  },
  {
   "cell_type": "code",
   "execution_count": 267,
   "metadata": {
    "scrolled": true
   },
   "outputs": [
    {
     "name": "stdout",
     "output_type": "stream",
     "text": [
      "CPU times: user 462 ms, sys: 4.04 ms, total: 466 ms\n",
      "Wall time: 463 ms\n"
     ]
    }
   ],
   "source": [
    "%time acc_by_tier = [[1.0 * len(G_nn_edge_set.intersection(edges_by_tier[i][j]) ) / len(edges_by_tier[i][j]) \\\n",
    "                      if len(edges_by_tier[i][j]) > 0 else 0.0 \\\n",
    "                      for i in range(T)] for j in range(T)]"
   ]
  },
  {
   "cell_type": "code",
   "execution_count": 269,
   "metadata": {},
   "outputs": [
    {
     "data": {
      "text/plain": [
       "Text(0.5, 1.0, 'Edge Reconstruction Accuracy between Nodes of Different Tiers')"
      ]
     },
     "execution_count": 269,
     "metadata": {},
     "output_type": "execute_result"
    },
    {
     "data": {
      "image/png": "[encoded data removed]",
      "text/plain": [
       "<Figure size 432x288 with 2 Axes>"
      ]
     },
     "metadata": {},
     "output_type": "display_data"
    }
   ],
   "source": [
    "sns.heatmap(acc_by_tier, cmap=sns.cm.rocket_r)\n",
    "plt.xlabel('Degree Tier')\n",
    "plt.ylabel('Degree Tier')\n",
    "plt.title('Edge Reconstruction Accuracy between Nodes of Different Tiers')"
   ]
  },
  {
   "cell_type": "markdown",
   "metadata": {},
   "source": [
    "# Sergiy Model"
   ]
  },
  {
   "cell_type": "markdown",
   "metadata": {},
   "source": [
    "Connect according to the BA scheme, but use embedding distance to break ties."
   ]
  },
  {
   "cell_type": "code",
   "execution_count": 208,
   "metadata": {},
   "outputs": [
    {
     "data": {
      "text/plain": [
       "32"
      ]
     },
     "execution_count": 208,
     "metadata": {},
     "output_type": "execute_result"
    }
   ],
   "source": [
    "avg_d = int(M / N)\n",
    "avg_d"
   ]
  },
  {
   "cell_type": "code",
   "execution_count": 211,
   "metadata": {},
   "outputs": [],
   "source": [
    "G_s = nx.complete_graph(avg_d)"
   ]
  },
  {
   "cell_type": "code",
   "execution_count": 222,
   "metadata": {},
   "outputs": [
    {
     "name": "stdout",
     "output_type": "stream",
     "text": [
      "500\n",
      "1000\n",
      "1500\n"
     ]
    },
    {
     "ename": "KeyboardInterrupt",
     "evalue": "",
     "output_type": "error",
     "traceback": [
      "\u001b[0;31m---------------------------------------------------------------------------\u001b[0m",
      "\u001b[0;31mKeyboardInterrupt\u001b[0m                         Traceback (most recent call last)",
      "\u001b[0;32m<ipython-input-222-ab1c83935e19>\u001b[0m in \u001b[0;36m<module>\u001b[0;34m\u001b[0m\n\u001b[1;32m      3\u001b[0m         \u001b[0mprint\u001b[0m \u001b[0;34m(\u001b[0m\u001b[0mu\u001b[0m\u001b[0;34m)\u001b[0m\u001b[0;34m\u001b[0m\u001b[0;34m\u001b[0m\u001b[0m\n\u001b[1;32m      4\u001b[0m     \u001b[0;31m# ref: https://docs.scipy.org/doc/numpy-1.13.0/reference/generated/numpy.random.choice.html\u001b[0m\u001b[0;34m\u001b[0m\u001b[0;34m\u001b[0m\u001b[0;34m\u001b[0m\u001b[0m\n\u001b[0;32m----> 5\u001b[0;31m     \u001b[0mp\u001b[0m \u001b[0;34m=\u001b[0m \u001b[0;34m[\u001b[0m\u001b[0;36m0.5\u001b[0m \u001b[0;34m*\u001b[0m \u001b[0md\u001b[0m \u001b[0;34m/\u001b[0m \u001b[0mG_s\u001b[0m\u001b[0;34m.\u001b[0m\u001b[0mnumber_of_edges\u001b[0m\u001b[0;34m(\u001b[0m\u001b[0;34m)\u001b[0m \u001b[0;32mfor\u001b[0m \u001b[0mn\u001b[0m\u001b[0;34m,\u001b[0m \u001b[0md\u001b[0m \u001b[0;32min\u001b[0m \u001b[0mG_s\u001b[0m\u001b[0;34m.\u001b[0m\u001b[0mdegree\u001b[0m\u001b[0;34m]\u001b[0m\u001b[0;34m\u001b[0m\u001b[0;34m\u001b[0m\u001b[0m\n\u001b[0m\u001b[1;32m      6\u001b[0m     \u001b[0mneighbors\u001b[0m \u001b[0;34m=\u001b[0m \u001b[0mnp\u001b[0m\u001b[0;34m.\u001b[0m\u001b[0mrandom\u001b[0m\u001b[0;34m.\u001b[0m\u001b[0mchoice\u001b[0m\u001b[0;34m(\u001b[0m\u001b[0mu\u001b[0m\u001b[0;34m,\u001b[0m \u001b[0mavg_d\u001b[0m\u001b[0;34m,\u001b[0m \u001b[0mreplace\u001b[0m\u001b[0;34m=\u001b[0m\u001b[0;32mFalse\u001b[0m\u001b[0;34m,\u001b[0m \u001b[0mp\u001b[0m\u001b[0;34m=\u001b[0m\u001b[0mp\u001b[0m\u001b[0;34m)\u001b[0m\u001b[0;34m\u001b[0m\u001b[0;34m\u001b[0m\u001b[0m\n\u001b[1;32m      7\u001b[0m     \u001b[0mnew_edges\u001b[0m \u001b[0;34m=\u001b[0m \u001b[0;34m[\u001b[0m\u001b[0;34m(\u001b[0m\u001b[0mu\u001b[0m\u001b[0;34m,\u001b[0m \u001b[0mneighbor\u001b[0m\u001b[0;34m)\u001b[0m \u001b[0;32mfor\u001b[0m \u001b[0mneighbor\u001b[0m \u001b[0;32min\u001b[0m \u001b[0mneighbors\u001b[0m\u001b[0;34m]\u001b[0m\u001b[0;34m\u001b[0m\u001b[0;34m\u001b[0m\u001b[0m\n",
      "\u001b[0;32m<ipython-input-222-ab1c83935e19>\u001b[0m in \u001b[0;36m<listcomp>\u001b[0;34m(.0)\u001b[0m\n\u001b[1;32m      3\u001b[0m         \u001b[0mprint\u001b[0m \u001b[0;34m(\u001b[0m\u001b[0mu\u001b[0m\u001b[0;34m)\u001b[0m\u001b[0;34m\u001b[0m\u001b[0;34m\u001b[0m\u001b[0m\n\u001b[1;32m      4\u001b[0m     \u001b[0;31m# ref: https://docs.scipy.org/doc/numpy-1.13.0/reference/generated/numpy.random.choice.html\u001b[0m\u001b[0;34m\u001b[0m\u001b[0;34m\u001b[0m\u001b[0;34m\u001b[0m\u001b[0m\n\u001b[0;32m----> 5\u001b[0;31m     \u001b[0mp\u001b[0m \u001b[0;34m=\u001b[0m \u001b[0;34m[\u001b[0m\u001b[0;36m0.5\u001b[0m \u001b[0;34m*\u001b[0m \u001b[0md\u001b[0m \u001b[0;34m/\u001b[0m \u001b[0mG_s\u001b[0m\u001b[0;34m.\u001b[0m\u001b[0mnumber_of_edges\u001b[0m\u001b[0;34m(\u001b[0m\u001b[0;34m)\u001b[0m \u001b[0;32mfor\u001b[0m \u001b[0mn\u001b[0m\u001b[0;34m,\u001b[0m \u001b[0md\u001b[0m \u001b[0;32min\u001b[0m \u001b[0mG_s\u001b[0m\u001b[0;34m.\u001b[0m\u001b[0mdegree\u001b[0m\u001b[0;34m]\u001b[0m\u001b[0;34m\u001b[0m\u001b[0;34m\u001b[0m\u001b[0m\n\u001b[0m\u001b[1;32m      6\u001b[0m     \u001b[0mneighbors\u001b[0m \u001b[0;34m=\u001b[0m \u001b[0mnp\u001b[0m\u001b[0;34m.\u001b[0m\u001b[0mrandom\u001b[0m\u001b[0;34m.\u001b[0m\u001b[0mchoice\u001b[0m\u001b[0;34m(\u001b[0m\u001b[0mu\u001b[0m\u001b[0;34m,\u001b[0m \u001b[0mavg_d\u001b[0m\u001b[0;34m,\u001b[0m \u001b[0mreplace\u001b[0m\u001b[0;34m=\u001b[0m\u001b[0;32mFalse\u001b[0m\u001b[0;34m,\u001b[0m \u001b[0mp\u001b[0m\u001b[0;34m=\u001b[0m\u001b[0mp\u001b[0m\u001b[0;34m)\u001b[0m\u001b[0;34m\u001b[0m\u001b[0;34m\u001b[0m\u001b[0m\n\u001b[1;32m      7\u001b[0m     \u001b[0mnew_edges\u001b[0m \u001b[0;34m=\u001b[0m \u001b[0;34m[\u001b[0m\u001b[0;34m(\u001b[0m\u001b[0mu\u001b[0m\u001b[0;34m,\u001b[0m \u001b[0mneighbor\u001b[0m\u001b[0;34m)\u001b[0m \u001b[0;32mfor\u001b[0m \u001b[0mneighbor\u001b[0m \u001b[0;32min\u001b[0m \u001b[0mneighbors\u001b[0m\u001b[0;34m]\u001b[0m\u001b[0;34m\u001b[0m\u001b[0;34m\u001b[0m\u001b[0m\n",
      "\u001b[0;32m~/anaconda3/lib/python3.7/site-packages/networkx/classes/graph.py\u001b[0m in \u001b[0;36mnumber_of_edges\u001b[0;34m(self, u, v)\u001b[0m\n\u001b[1;32m   1837\u001b[0m         \"\"\"\n\u001b[1;32m   1838\u001b[0m         \u001b[0;32mif\u001b[0m \u001b[0mu\u001b[0m \u001b[0;32mis\u001b[0m \u001b[0;32mNone\u001b[0m\u001b[0;34m:\u001b[0m\u001b[0;34m\u001b[0m\u001b[0;34m\u001b[0m\u001b[0m\n\u001b[0;32m-> 1839\u001b[0;31m             \u001b[0;32mreturn\u001b[0m \u001b[0mint\u001b[0m\u001b[0;34m(\u001b[0m\u001b[0mself\u001b[0m\u001b[0;34m.\u001b[0m\u001b[0msize\u001b[0m\u001b[0;34m(\u001b[0m\u001b[0;34m)\u001b[0m\u001b[0;34m)\u001b[0m\u001b[0;34m\u001b[0m\u001b[0;34m\u001b[0m\u001b[0m\n\u001b[0m\u001b[1;32m   1840\u001b[0m         \u001b[0;32mif\u001b[0m \u001b[0mv\u001b[0m \u001b[0;32min\u001b[0m \u001b[0mself\u001b[0m\u001b[0;34m.\u001b[0m\u001b[0m_adj\u001b[0m\u001b[0;34m[\u001b[0m\u001b[0mu\u001b[0m\u001b[0;34m]\u001b[0m\u001b[0;34m:\u001b[0m\u001b[0;34m\u001b[0m\u001b[0;34m\u001b[0m\u001b[0m\n\u001b[1;32m   1841\u001b[0m             \u001b[0;32mreturn\u001b[0m \u001b[0;36m1\u001b[0m\u001b[0;34m\u001b[0m\u001b[0;34m\u001b[0m\u001b[0m\n",
      "\u001b[0;32m~/anaconda3/lib/python3.7/site-packages/networkx/classes/graph.py\u001b[0m in \u001b[0;36msize\u001b[0;34m(self, weight)\u001b[0m\n\u001b[1;32m   1783\u001b[0m         \u001b[0;36m6.0\u001b[0m\u001b[0;34m\u001b[0m\u001b[0;34m\u001b[0m\u001b[0m\n\u001b[1;32m   1784\u001b[0m         \"\"\"\n\u001b[0;32m-> 1785\u001b[0;31m         \u001b[0ms\u001b[0m \u001b[0;34m=\u001b[0m \u001b[0msum\u001b[0m\u001b[0;34m(\u001b[0m\u001b[0md\u001b[0m \u001b[0;32mfor\u001b[0m \u001b[0mv\u001b[0m\u001b[0;34m,\u001b[0m \u001b[0md\u001b[0m \u001b[0;32min\u001b[0m \u001b[0mself\u001b[0m\u001b[0;34m.\u001b[0m\u001b[0mdegree\u001b[0m\u001b[0;34m(\u001b[0m\u001b[0mweight\u001b[0m\u001b[0;34m=\u001b[0m\u001b[0mweight\u001b[0m\u001b[0;34m)\u001b[0m\u001b[0;34m)\u001b[0m\u001b[0;34m\u001b[0m\u001b[0;34m\u001b[0m\u001b[0m\n\u001b[0m\u001b[1;32m   1786\u001b[0m         \u001b[0;31m# If `weight` is None, the sum of the degrees is guaranteed to be\u001b[0m\u001b[0;34m\u001b[0m\u001b[0;34m\u001b[0m\u001b[0;34m\u001b[0m\u001b[0m\n\u001b[1;32m   1787\u001b[0m         \u001b[0;31m# even, so we can perform integer division and hence return an\u001b[0m\u001b[0;34m\u001b[0m\u001b[0;34m\u001b[0m\u001b[0;34m\u001b[0m\u001b[0m\n",
      "\u001b[0;32m~/anaconda3/lib/python3.7/site-packages/networkx/classes/graph.py\u001b[0m in \u001b[0;36m<genexpr>\u001b[0;34m(.0)\u001b[0m\n\u001b[1;32m   1783\u001b[0m         \u001b[0;36m6.0\u001b[0m\u001b[0;34m\u001b[0m\u001b[0;34m\u001b[0m\u001b[0m\n\u001b[1;32m   1784\u001b[0m         \"\"\"\n\u001b[0;32m-> 1785\u001b[0;31m         \u001b[0ms\u001b[0m \u001b[0;34m=\u001b[0m \u001b[0msum\u001b[0m\u001b[0;34m(\u001b[0m\u001b[0md\u001b[0m \u001b[0;32mfor\u001b[0m \u001b[0mv\u001b[0m\u001b[0;34m,\u001b[0m \u001b[0md\u001b[0m \u001b[0;32min\u001b[0m \u001b[0mself\u001b[0m\u001b[0;34m.\u001b[0m\u001b[0mdegree\u001b[0m\u001b[0;34m(\u001b[0m\u001b[0mweight\u001b[0m\u001b[0;34m=\u001b[0m\u001b[0mweight\u001b[0m\u001b[0;34m)\u001b[0m\u001b[0;34m)\u001b[0m\u001b[0;34m\u001b[0m\u001b[0;34m\u001b[0m\u001b[0m\n\u001b[0m\u001b[1;32m   1786\u001b[0m         \u001b[0;31m# If `weight` is None, the sum of the degrees is guaranteed to be\u001b[0m\u001b[0;34m\u001b[0m\u001b[0;34m\u001b[0m\u001b[0;34m\u001b[0m\u001b[0m\n\u001b[1;32m   1787\u001b[0m         \u001b[0;31m# even, so we can perform integer division and hence return an\u001b[0m\u001b[0;34m\u001b[0m\u001b[0;34m\u001b[0m\u001b[0;34m\u001b[0m\u001b[0m\n",
      "\u001b[0;31mKeyboardInterrupt\u001b[0m: "
     ]
    }
   ],
   "source": [
    "for u in range(avg_d, N):\n",
    "    if u % 500 == 0:\n",
    "        print (u)\n",
    "    # ref: https://docs.scipy.org/doc/numpy-1.13.0/reference/generated/numpy.random.choice.html\n",
    "    p = [0.5 * d / G_s.number_of_edges() for n, d in G_s.degree]\n",
    "    neighbors = np.random.choice(u, avg_d, replace=False, p=p)\n",
    "    new_edges = [(u, neighbor) for neighbor in neighbors]\n",
    "    G_s.add_edges_from(new_edges)"
   ]
  }
 ],
 "metadata": {
  "kernelspec": {
   "display_name": "Python 3",
   "language": "python",
   "name": "python3"
  },
  "language_info": {
   "codemirror_mode": {
    "name": "ipython",
    "version": 3
   },
   "file_extension": ".py",
   "mimetype": "text/x-python",
   "name": "python",
   "nbconvert_exporter": "python",
   "pygments_lexer": "ipython3",
   "version": "3.7.1"
  }
 },
 "nbformat": 4,
 "nbformat_minor": 2
}
